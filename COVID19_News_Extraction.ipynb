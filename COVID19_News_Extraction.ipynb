{
  "nbformat": 4,
  "nbformat_minor": 0,
  "metadata": {
    "colab": {
      "name": "COVID19 News Extraction.ipynb",
      "provenance": [],
      "authorship_tag": "ABX9TyOz2ziWuU6Pnf1kRgKNdSkC",
      "include_colab_link": true
    },
    "kernelspec": {
      "name": "python3",
      "display_name": "Python 3"
    },
    "language_info": {
      "name": "python"
    }
  },
  "cells": [
    {
      "cell_type": "markdown",
      "metadata": {
        "id": "view-in-github",
        "colab_type": "text"
      },
      "source": [
        "<a href=\"https://colab.research.google.com/github/ProJedi1234/Java-Process-Scheduler/blob/master/COVID19_News_Extraction.ipynb\" target=\"_parent\"><img src=\"https://colab.research.google.com/assets/colab-badge.svg\" alt=\"Open In Colab\"/></a>"
      ]
    },
    {
      "cell_type": "markdown",
      "source": [
        "#COVID-19 News Extraction"
      ],
      "metadata": {
        "id": "Z6O97XKLATFm"
      }
    },
    {
      "cell_type": "markdown",
      "source": [
        "##Install and setup News API"
      ],
      "metadata": {
        "id": "BMbkXV0-BdFK"
      }
    },
    {
      "cell_type": "markdown",
      "source": [
        "###Install News API"
      ],
      "metadata": {
        "id": "bc8xK82LAYaH"
      }
    },
    {
      "cell_type": "code",
      "source": [
        "!pip install spacy\n",
        "!pip install newsapi-python"
      ],
      "metadata": {
        "colab": {
          "base_uri": "https://localhost:8080/"
        },
        "id": "4DpYE9iRAXYD",
        "outputId": "ad0927b7-24af-464d-a31e-f766543cb7a1"
      },
      "execution_count": 3,
      "outputs": [
        {
          "output_type": "stream",
          "name": "stdout",
          "text": [
            "Requirement already satisfied: spacy in /usr/local/lib/python3.7/dist-packages (2.2.4)\n",
            "Requirement already satisfied: wasabi<1.1.0,>=0.4.0 in /usr/local/lib/python3.7/dist-packages (from spacy) (0.9.0)\n",
            "Requirement already satisfied: tqdm<5.0.0,>=4.38.0 in /usr/local/lib/python3.7/dist-packages (from spacy) (4.63.0)\n",
            "Requirement already satisfied: setuptools in /usr/local/lib/python3.7/dist-packages (from spacy) (57.4.0)\n",
            "Requirement already satisfied: catalogue<1.1.0,>=0.0.7 in /usr/local/lib/python3.7/dist-packages (from spacy) (1.0.0)\n",
            "Requirement already satisfied: requests<3.0.0,>=2.13.0 in /usr/local/lib/python3.7/dist-packages (from spacy) (2.23.0)\n",
            "Requirement already satisfied: murmurhash<1.1.0,>=0.28.0 in /usr/local/lib/python3.7/dist-packages (from spacy) (1.0.6)\n",
            "Requirement already satisfied: blis<0.5.0,>=0.4.0 in /usr/local/lib/python3.7/dist-packages (from spacy) (0.4.1)\n",
            "Requirement already satisfied: numpy>=1.15.0 in /usr/local/lib/python3.7/dist-packages (from spacy) (1.21.5)\n",
            "Requirement already satisfied: preshed<3.1.0,>=3.0.2 in /usr/local/lib/python3.7/dist-packages (from spacy) (3.0.6)\n",
            "Requirement already satisfied: cymem<2.1.0,>=2.0.2 in /usr/local/lib/python3.7/dist-packages (from spacy) (2.0.6)\n",
            "Requirement already satisfied: srsly<1.1.0,>=1.0.2 in /usr/local/lib/python3.7/dist-packages (from spacy) (1.0.5)\n",
            "Requirement already satisfied: plac<1.2.0,>=0.9.6 in /usr/local/lib/python3.7/dist-packages (from spacy) (1.1.3)\n",
            "Requirement already satisfied: thinc==7.4.0 in /usr/local/lib/python3.7/dist-packages (from spacy) (7.4.0)\n",
            "Requirement already satisfied: importlib-metadata>=0.20 in /usr/local/lib/python3.7/dist-packages (from catalogue<1.1.0,>=0.0.7->spacy) (4.11.3)\n",
            "Requirement already satisfied: typing-extensions>=3.6.4 in /usr/local/lib/python3.7/dist-packages (from importlib-metadata>=0.20->catalogue<1.1.0,>=0.0.7->spacy) (3.10.0.2)\n",
            "Requirement already satisfied: zipp>=0.5 in /usr/local/lib/python3.7/dist-packages (from importlib-metadata>=0.20->catalogue<1.1.0,>=0.0.7->spacy) (3.7.0)\n",
            "Requirement already satisfied: idna<3,>=2.5 in /usr/local/lib/python3.7/dist-packages (from requests<3.0.0,>=2.13.0->spacy) (2.10)\n",
            "Requirement already satisfied: chardet<4,>=3.0.2 in /usr/local/lib/python3.7/dist-packages (from requests<3.0.0,>=2.13.0->spacy) (3.0.4)\n",
            "Requirement already satisfied: urllib3!=1.25.0,!=1.25.1,<1.26,>=1.21.1 in /usr/local/lib/python3.7/dist-packages (from requests<3.0.0,>=2.13.0->spacy) (1.24.3)\n",
            "Requirement already satisfied: certifi>=2017.4.17 in /usr/local/lib/python3.7/dist-packages (from requests<3.0.0,>=2.13.0->spacy) (2021.10.8)\n",
            "Collecting newsapi-python\n",
            "  Downloading newsapi_python-0.2.6-py2.py3-none-any.whl (7.9 kB)\n",
            "Requirement already satisfied: requests<3.0.0 in /usr/local/lib/python3.7/dist-packages (from newsapi-python) (2.23.0)\n",
            "Requirement already satisfied: idna<3,>=2.5 in /usr/local/lib/python3.7/dist-packages (from requests<3.0.0->newsapi-python) (2.10)\n",
            "Requirement already satisfied: certifi>=2017.4.17 in /usr/local/lib/python3.7/dist-packages (from requests<3.0.0->newsapi-python) (2021.10.8)\n",
            "Requirement already satisfied: chardet<4,>=3.0.2 in /usr/local/lib/python3.7/dist-packages (from requests<3.0.0->newsapi-python) (3.0.4)\n",
            "Requirement already satisfied: urllib3!=1.25.0,!=1.25.1,<1.26,>=1.21.1 in /usr/local/lib/python3.7/dist-packages (from requests<3.0.0->newsapi-python) (1.24.3)\n",
            "Installing collected packages: newsapi-python\n",
            "Successfully installed newsapi-python-0.2.6\n"
          ]
        }
      ]
    },
    {
      "cell_type": "code",
      "source": [
        "import spacy\n",
        "import newsapi\n",
        "import pickle\n",
        "import pandas as pd"
      ],
      "metadata": {
        "id": "HeK_73WyEix2"
      },
      "execution_count": 4,
      "outputs": []
    },
    {
      "cell_type": "markdown",
      "source": [
        "###Download Language Model"
      ],
      "metadata": {
        "id": "tV0VjPOxAlWU"
      }
    },
    {
      "cell_type": "code",
      "source": [
        "!python -m spacy download en_core_web_sm"
      ],
      "metadata": {
        "colab": {
          "base_uri": "https://localhost:8080/"
        },
        "id": "YUsXaW6WDIfZ",
        "outputId": "4e04d2d1-4035-4394-ba58-5052378bbea9"
      },
      "execution_count": 5,
      "outputs": [
        {
          "output_type": "stream",
          "name": "stdout",
          "text": [
            "Collecting en_core_web_sm==2.2.5\n",
            "  Downloading https://github.com/explosion/spacy-models/releases/download/en_core_web_sm-2.2.5/en_core_web_sm-2.2.5.tar.gz (12.0 MB)\n",
            "\u001b[K     |████████████████████████████████| 12.0 MB 8.5 MB/s \n",
            "\u001b[?25hRequirement already satisfied: spacy>=2.2.2 in /usr/local/lib/python3.7/dist-packages (from en_core_web_sm==2.2.5) (2.2.4)\n",
            "Requirement already satisfied: requests<3.0.0,>=2.13.0 in /usr/local/lib/python3.7/dist-packages (from spacy>=2.2.2->en_core_web_sm==2.2.5) (2.23.0)\n",
            "Requirement already satisfied: tqdm<5.0.0,>=4.38.0 in /usr/local/lib/python3.7/dist-packages (from spacy>=2.2.2->en_core_web_sm==2.2.5) (4.63.0)\n",
            "Requirement already satisfied: catalogue<1.1.0,>=0.0.7 in /usr/local/lib/python3.7/dist-packages (from spacy>=2.2.2->en_core_web_sm==2.2.5) (1.0.0)\n",
            "Requirement already satisfied: murmurhash<1.1.0,>=0.28.0 in /usr/local/lib/python3.7/dist-packages (from spacy>=2.2.2->en_core_web_sm==2.2.5) (1.0.6)\n",
            "Requirement already satisfied: setuptools in /usr/local/lib/python3.7/dist-packages (from spacy>=2.2.2->en_core_web_sm==2.2.5) (57.4.0)\n",
            "Requirement already satisfied: thinc==7.4.0 in /usr/local/lib/python3.7/dist-packages (from spacy>=2.2.2->en_core_web_sm==2.2.5) (7.4.0)\n",
            "Requirement already satisfied: wasabi<1.1.0,>=0.4.0 in /usr/local/lib/python3.7/dist-packages (from spacy>=2.2.2->en_core_web_sm==2.2.5) (0.9.0)\n",
            "Requirement already satisfied: srsly<1.1.0,>=1.0.2 in /usr/local/lib/python3.7/dist-packages (from spacy>=2.2.2->en_core_web_sm==2.2.5) (1.0.5)\n",
            "Requirement already satisfied: numpy>=1.15.0 in /usr/local/lib/python3.7/dist-packages (from spacy>=2.2.2->en_core_web_sm==2.2.5) (1.21.5)\n",
            "Requirement already satisfied: plac<1.2.0,>=0.9.6 in /usr/local/lib/python3.7/dist-packages (from spacy>=2.2.2->en_core_web_sm==2.2.5) (1.1.3)\n",
            "Requirement already satisfied: preshed<3.1.0,>=3.0.2 in /usr/local/lib/python3.7/dist-packages (from spacy>=2.2.2->en_core_web_sm==2.2.5) (3.0.6)\n",
            "Requirement already satisfied: blis<0.5.0,>=0.4.0 in /usr/local/lib/python3.7/dist-packages (from spacy>=2.2.2->en_core_web_sm==2.2.5) (0.4.1)\n",
            "Requirement already satisfied: cymem<2.1.0,>=2.0.2 in /usr/local/lib/python3.7/dist-packages (from spacy>=2.2.2->en_core_web_sm==2.2.5) (2.0.6)\n",
            "Requirement already satisfied: importlib-metadata>=0.20 in /usr/local/lib/python3.7/dist-packages (from catalogue<1.1.0,>=0.0.7->spacy>=2.2.2->en_core_web_sm==2.2.5) (4.11.3)\n",
            "Requirement already satisfied: zipp>=0.5 in /usr/local/lib/python3.7/dist-packages (from importlib-metadata>=0.20->catalogue<1.1.0,>=0.0.7->spacy>=2.2.2->en_core_web_sm==2.2.5) (3.7.0)\n",
            "Requirement already satisfied: typing-extensions>=3.6.4 in /usr/local/lib/python3.7/dist-packages (from importlib-metadata>=0.20->catalogue<1.1.0,>=0.0.7->spacy>=2.2.2->en_core_web_sm==2.2.5) (3.10.0.2)\n",
            "Requirement already satisfied: certifi>=2017.4.17 in /usr/local/lib/python3.7/dist-packages (from requests<3.0.0,>=2.13.0->spacy>=2.2.2->en_core_web_sm==2.2.5) (2021.10.8)\n",
            "Requirement already satisfied: urllib3!=1.25.0,!=1.25.1,<1.26,>=1.21.1 in /usr/local/lib/python3.7/dist-packages (from requests<3.0.0,>=2.13.0->spacy>=2.2.2->en_core_web_sm==2.2.5) (1.24.3)\n",
            "Requirement already satisfied: idna<3,>=2.5 in /usr/local/lib/python3.7/dist-packages (from requests<3.0.0,>=2.13.0->spacy>=2.2.2->en_core_web_sm==2.2.5) (2.10)\n",
            "Requirement already satisfied: chardet<4,>=3.0.2 in /usr/local/lib/python3.7/dist-packages (from requests<3.0.0,>=2.13.0->spacy>=2.2.2->en_core_web_sm==2.2.5) (3.0.4)\n",
            "\u001b[38;5;2m✔ Download and installation successful\u001b[0m\n",
            "You can now load the model via spacy.load('en_core_web_sm')\n"
          ]
        }
      ]
    },
    {
      "cell_type": "markdown",
      "source": [
        "###Import spaCy library"
      ],
      "metadata": {
        "id": "3mxzQuVnA4YW"
      }
    },
    {
      "cell_type": "code",
      "source": [
        "nlp_eng = spacy.load('en_core_web_sm')\n",
        "newsapi = newsapi.NewsApiClient (api_key='3238bd5f6e6b4d08b9fd1b8ddf6b564d')"
      ],
      "metadata": {
        "id": "qdXpl1ISA7nn"
      },
      "execution_count": 6,
      "outputs": []
    },
    {
      "cell_type": "markdown",
      "source": [
        "##Gather News"
      ],
      "metadata": {
        "id": "PnyM5YsCBlVC"
      }
    },
    {
      "cell_type": "code",
      "source": [
        "temp = newsapi.get_everything(q='coronavirus', language='en', from_param='2022-02-28', to='2022-03-27', sort_by='relevancy', page=1)"
      ],
      "metadata": {
        "id": "q87f6uXTBqDL"
      },
      "execution_count": 10,
      "outputs": []
    },
    {
      "cell_type": "code",
      "source": [
        "filename = 'articlesCOVID.pckl'\n",
        "pickle.dump(temp, open(filename, 'wb'))\n",
        "filename = 'articlesCOVID.pckl'\n",
        "loaded_model = pickle.load(open(filename, 'rb'))\n",
        "filepath = '/articlesCOVID.pckl'\n",
        "pickle.dump(loaded_model, open(filepath, 'wb'))"
      ],
      "metadata": {
        "id": "RzEgxRpCBudf"
      },
      "execution_count": 11,
      "outputs": []
    },
    {
      "cell_type": "code",
      "source": [
        "print(temp)"
      ],
      "metadata": {
        "colab": {
          "base_uri": "https://localhost:8080/"
        },
        "id": "HQTtIwrCFUp0",
        "outputId": "df796c4c-d316-4b73-a7cf-c95aee95a686"
      },
      "execution_count": 12,
      "outputs": [
        {
          "output_type": "stream",
          "name": "stdout",
          "text": [
            "{'status': 'ok', 'totalResults': 22239, 'articles': [{'source': {'id': None, 'name': 'New York Times'}, 'author': 'Lauren Hilgers, John Woo, Aaron Esposito, Jack D’Isidoro, Marion Lozano and Zachary Mouton', 'title': 'The Sunday Read: ‘Nurses Have Finally Learned What They’re Worth’', 'description': 'As the coronavirus spread, demand for nurses came from every corner. Some traveling jobs paid more than $10,000 a week. Will the boom last?', 'url': 'https://www.nytimes.com/2022/03/27/podcasts/the-daily/nursing-pandemic-sunday-read.html', 'urlToImage': 'https://static01.nyt.com/images/2022/02/06/magazine/27daily-audm-1/06mag-NSO-1-facebookJumbo.jpg', 'publishedAt': '2022-03-27T10:00:07Z', 'content': 'There are a lot of ways to listen to The Daily. Heres how.\\r\\nWe want to hear from you. Tune in, and tell us what you think. Email us at thedaily@nytimes.com. Follow Michael Barbaro on Twitter: @mikieb… [+501 chars]'}, {'source': {'id': None, 'name': 'New York Times'}, 'author': 'Joseph Berger', 'title': 'Rabbi Chaim Kanievsky, Venerated Talmudic Scholar, Dies at 94', 'description': 'He initially insisted, “Canceling Torah study is more dangerous than the coronavirus.” But he had a change of heart, even before testing positive.', 'url': 'https://www.nytimes.com/2022/03/18/obituaries/rabbi-chaim-kanievsky-dea.html', 'urlToImage': 'https://static01.nyt.com/images/2022/03/19/obituaries/19Kanievsky-obit1/00Kanievsky1-facebookJumbo.jpg', 'publishedAt': '2022-03-18T20:26:55Z', 'content': 'Most significant was his ruling that instances of sexual abuse of children should be reported to the civic authorities and not handled exclusively within the Haredi community. This was a sharp depart… [+1849 chars]'}, {'source': {'id': None, 'name': 'New York Times'}, 'author': 'Emma G. Fitzsimmons', 'title': 'Can Eric Adams Cheerlead New Yorkers Past the Pandemic?', 'description': 'The mayor is singularly focused on bringing back New York City’s economy, now that coronavirus cases have dropped.', 'url': 'https://www.nytimes.com/2022/03/20/nyregion/pandemic-recovery-masks-nyc.html', 'urlToImage': 'https://static01.nyt.com/images/2022/03/20/nyregion/20mayor-recovery-print1-sub/00mayor-recovery1-facebookJumbo.jpg', 'publishedAt': '2022-03-20T16:11:17Z', 'content': 'Mr. Adams, a Democrat, has had regular conversations with some of the citys most influential business leaders, including David Solomon, chief executive at the banking firm Goldman Sachs, and Jonathan… [+1705 chars]'}, {'source': {'id': None, 'name': 'New York Times'}, 'author': 'The New York Times', 'title': 'Moderna Asks F.D.A. to Authorize a Second Booster for All Adults', 'description': 'The request is significantly broader than the one filed by Pfizer and BioNTech for their coronavirus vaccine this week. Here’s the latest on Covid.', 'url': 'https://www.nytimes.com/live/2022/03/18/world/covid-19-mandates-cases-vaccine', 'urlToImage': 'https://static01.nyt.com/images/2022/03/17/multimedia/17-virusbrief-fourthdose/17-virusbrief-fourthdose-facebookJumbo.jpg', 'publishedAt': '2022-03-18T09:08:37Z', 'content': 'A man receiving a second booster of a coronavirus vaccine in Tel Aviv. Moderna cited data in part from Israel in its request.Credit...Amir Cohen/Reuters\\r\\nModerna said late Thursday that it asked the … [+3031 chars]'}, {'source': {'id': None, 'name': 'New York Times'}, 'author': 'The New York Times', 'title': 'China Reports Its First Covid Deaths in Over a Year', 'description': 'The two fatalities are the first coronavirus deaths to be officially recorded in the country since January 2021. Get the latest pandemic news.', 'url': 'https://www.nytimes.com/live/2022/03/19/world/covid-19-mandates-cases-vaccine', 'urlToImage': 'https://static01.nyt.com/images/2022/04/18/world/18virus-briefing-china-deaths/merlin_203882598_444c61f1-75fc-421f-a84a-d192a59d9ff7-facebookJumbo.jpg', 'publishedAt': '2022-03-19T13:37:04Z', 'content': 'Scarcely two months after the Omicron variant drove coronavirus case numbers to frightening heights in the United States, scientists and health officials are bracing for another swell in the pandemic… [+10570 chars]'}, {'source': {'id': None, 'name': 'New York Times'}, 'author': 'Sheryl Gay Stolberg', 'title': 'Can Ashish Jha, ‘A Comforting Voice,’ Tamp Down Covid’s Political Divide?', 'description': 'Dr. Jha, the new White House coronavirus response coordinator, has built a reputation as a gifted communicator, but there is much more to the job.', 'url': 'https://www.nytimes.com/2022/03/20/us/politics/ashish-jha-covid-biden.html', 'urlToImage': 'https://static01.nyt.com/images/2022/03/18/us/politics/18dc-jha/18dc-jha-facebookJumbo.jpg', 'publishedAt': '2022-03-20T09:00:09Z', 'content': 'Dr. Jha was born in Bihar, a state in eastern India that is among the poorest in that country. When he was nine, his parents moved their family to Toronto. He showed up, he told The Providence Journa… [+1974 chars]'}, {'source': {'id': None, 'name': 'New York Times'}, 'author': 'Emma G. Fitzsimmons', 'title': 'Preschoolers Can Shed Their Masks, Mayor Adams Says', 'description': 'New York City plans to end the mask requirement for the city’s youngest children on April 4 if coronavirus cases remain low.', 'url': 'https://www.nytimes.com/2022/03/22/nyregion/mask-mandate-children-nyc.html', 'urlToImage': 'https://static01.nyt.com/images/2022/03/22/nyregion/22ny-masks/22ny-masks-facebookJumbo.jpg', 'publishedAt': '2022-03-22T18:11:14Z', 'content': 'Earlier this month, when Mr. Adams eliminated a mask mandate for older students in kindergarten through 12th grades, he said he wanted to wait to make a decision for children under 5. The mayor said … [+1774 chars]'}, {'source': {'id': None, 'name': 'New York Times'}, 'author': 'The New York Times', 'title': '2 Years After Declaring Pandemic, W.H.O. Urges Continued Vigilance', 'description': 'Exactly two years after saying that the coronavirus outbreak had become a pandemic, the agency says it isn’t over yet. One American public health expert added, “This virus has fooled us every time.”', 'url': 'https://www.nytimes.com/live/2022/03/11/world/covid-19-mandates-cases-vaccine', 'urlToImage': 'https://static01.nyt.com/images/2022/03/11/world/11virus-briefing-two-years-who-sub/merlin_203458191_23cdf9d9-793a-4bea-90f8-7bafb498feed-facebookJumbo.jpg', 'publishedAt': '2022-03-11T09:29:44Z', 'content': 'The World Health Organization, often criticized for being too slow to declare in 2020 that a pandemic was underway, now says two years to the day after making that declaration that many countries are… [+4147 chars]'}, {'source': {'id': None, 'name': 'New York Times'}, 'author': 'Remy Tumin', 'title': 'Ukraine, Coronavirus, Pompeii: Your Friday Evening Briefing', 'description': 'Here’s what you need to know at the end of the day.', 'url': 'https://www.nytimes.com/2022/03/11/briefing/ukraine-coronavirus-pompeii.html', 'urlToImage': 'https://static01.nyt.com/images/2022/03/11/multimedia/11evening_promo/11evening_ukraine-facebookJumbo.jpg', 'publishedAt': '2022-03-11T23:33:10Z', 'content': '10. And finally, if he could turn back time \\r\\nDaylight saving time begins Sunday in the U.S., as clocks spring forward an hour and we gain an extra hour of daylight. In Britain, France and Germany, t… [+1185 chars]'}, {'source': {'id': None, 'name': 'New York Times'}, 'author': 'Juliet Macur', 'title': 'Knocked Down by Covid in Beijing, Vincent Zhou Is Getting Back Up', 'description': 'Zhou missed the men’s individual event at the Olympics because of the coronavirus. He is trying to shake off the memory in hopes of excelling at the figure skating world championships.', 'url': 'https://www.nytimes.com/2022/03/18/sports/olympics/vincent-zhou-figure-skating-world-championships.html', 'urlToImage': 'https://static01.nyt.com/images/2022/03/17/multimedia/17skating-zhou1/17skating-zhou1-facebookJumbo.jpg', 'publishedAt': '2022-03-19T04:29:38Z', 'content': 'Its a fair question. He double masked. He wore a face shield on flights. In China, he ate alone in the Olympic cafeteria, carefully pulling down his mask between bites. He often kept such a distance … [+1316 chars]'}, {'source': {'id': None, 'name': 'New York Times'}, 'author': 'The New York Times', 'title': 'Rise of Omicron Subvariant in Europe Could Be Sign for U.S.', 'description': 'Past coronavirus surges in Europe have predicted what was to come in the United States, but experts say the trend is more a cause for caution than alarm. New York’s experience offers lessons to health experts.', 'url': 'https://www.nytimes.com/live/2022/03/17/world/covid-19-mandates-cases-vaccine', 'urlToImage': 'https://static01.nyt.com/images/2022/03/17/multimedia/17virus-briefing-BA2-surge-GERMANY/17virus-briefing-BA2-surge-GERMANY-facebookJumbo.jpg', 'publishedAt': '2022-03-17T09:29:24Z', 'content': 'A street festival in Cologne, Germany. Coronavirus cases are rising in Europe after many countries lifted most pandemic restrictions.Credit...Thilo Schmuelgen/Reuters\\r\\nExperts warn that another coron… [+3741 chars]'}, {'source': {'id': None, 'name': 'New York Times'}, 'author': 'Lola Fadulu and Precious Fondren', 'title': 'Covid Vaccine Clinics Return to NYC Public Schools. Will They Work?', 'description': 'Adults in New York City have among the highest vaccination rates in the country. But the rates for children are far lower, raising concerns as coronavirus cases start to head back up.', 'url': 'https://www.nytimes.com/2022/03/23/nyregion/nyc-schools-vaccine-clinics.html', 'urlToImage': 'https://static01.nyt.com/images/2022/03/23/nyregion/23nyschoolvax1/23nyschoolvax1-facebookJumbo.jpg', 'publishedAt': '2022-03-24T14:09:56Z', 'content': 'While the clinics will help certain parents by making vaccines easier to access, they may not be enough to convince others, who have not been persuaded about the safety and efficacy of the shots and … [+1653 chars]'}, {'source': {'id': None, 'name': 'New York Times'}, 'author': 'Zolan Kanno-Youngs', 'title': 'Doug Emhoff, Vice President’s Husband, Tests Positive for the Coronavirus', 'description': 'Vice President Kamala Harris tested negative for the virus on Tuesday, an aide said, but Mr. Emhoff’s positive test forced her to back out of an event with President Biden.', 'url': 'https://www.nytimes.com/2022/03/15/us/politics/doug-emhoff-covid.html', 'urlToImage': 'https://static01.nyt.com/images/2022/03/15/us/politics/15dc-emhoff/15dc-emhoff-facebookJumbo.jpg', 'publishedAt': '2022-03-16T00:07:09Z', 'content': 'Ms. Harris stood alongside Mr. Biden earlier Tuesday during a bill signing. She also was at the Presidents Daily Brief in the Oval Office, according to her schedule. Mr. Biden last received a negativ… [+1314 chars]'}, {'source': {'id': None, 'name': 'New York Times'}, 'author': 'Ginia Bellafante', 'title': 'Is the Coronavirus Pandemic Over? New Yorkers Are Cautiously Optimistic.', 'description': '(*Or at least that’s the hope.) After several false starts, New York’s latest comeback finally feels like the real thing.', 'url': 'https://www.nytimes.com/2022/03/04/nyregion/nyc-coronavirus-pandemic.html', 'urlToImage': 'https://static01.nyt.com/images/2022/03/06/nyregion/06big/04big-facebookJumbo.jpg', 'publishedAt': '2022-03-04T16:16:44Z', 'content': 'The arc of the pandemic, from the dark beginnings to this new awakening, is efficiently told through the story of the chef Sean Rembold, who has worked in some of Brooklyns best loved kitchens. For h… [+2357 chars]'}, {'source': {'id': None, 'name': 'New York Times'}, 'author': 'The New York Times', 'title': 'Poll Finds Americans Are Less Worried About Catching and Spreading the Virus', 'description': 'Fears about the coronavirus are waning, and support for mask mandates is fading. President Biden is expected to announce steps to protect nursing home residents.', 'url': 'https://www.nytimes.com/live/2022/03/01/world/covid-19-tests-cases-vaccine', 'urlToImage': 'https://static01.nyt.com/images/2022/02/28/us/28virus-briefing-mask-poll/28virus-briefing-mask-poll-facebookJumbo.jpg', 'publishedAt': '2022-03-01T10:09:00Z', 'content': 'Nursing home residents waited to receive a Covid-19 vaccine in New York last year.Credit...Yuki Iwamura/Associated Press\\r\\nPresident Biden will use his State of the Union address Tuesday night in part… [+3214 chars]'}, {'source': {'id': None, 'name': 'New York Times'}, 'author': 'The New York Times', 'title': 'White House to Introduce New Coronavirus Response Strategy', 'description': 'The plan is intended to get the nation to a place where the virus does not disrupt everyday life. The C.D.C. no longer recommends universal case investigation and contact tracing.', 'url': 'https://www.nytimes.com/live/2022/03/02/world/covid-19-tests-cases-vaccine', 'urlToImage': 'https://static01.nyt.com/images/2022/03/01/us/politics/01dc-sotu-live-state-of-virus-1/01dc-sotu-live-state-of-virus-1-facebookJumbo.jpg', 'publishedAt': '2022-03-02T10:12:06Z', 'content': 'WASHINGTON President Biden, looking to usher the nation out of the coronavirus crisis into what some are calling a new normal, used his State of the Union address Tuesday night to sketch out the next… [+5694 chars]'}, {'source': {'id': 'reuters', 'name': 'Reuters'}, 'author': None, 'title': 'What you need to know about the coronavirus right now - Reuters.com', 'description': 'What you need to know about the coronavirus right now\\xa0\\xa0Reuters.com', 'url': 'https://www.reuters.com/business/healthcare-pharmaceuticals/what-you-need-know-about-coronavirus-right-now-2022-03-10/', 'urlToImage': 'https://www.reuters.com/resizer/2mU6xDzDNNKuwip6LhCm9wvOUio=/1200x628/smart/filters:quality(80)/cloudfront-us-east-2.images.arcpublishing.com/reuters/Y2Y72ETNQBOFRNI4C2T7J2TTZA.jpg', 'publishedAt': '2022-03-10T13:05:00Z', 'content': \"March 10 (Reuters) - Here's what you need to know about the coronavirus right now:\\r\\nChina's local symptomatic COVID cases nearly double\\r\\nMainland China reported 402 locally transmitted COVID-19 infec… [+3523 chars]\"}, {'source': {'id': 'reuters', 'name': 'Reuters'}, 'author': None, 'title': 'What you need to know about the coronavirus right now - Reuters.com', 'description': 'What you need to know about the coronavirus right now\\xa0\\xa0Reuters.com', 'url': 'https://www.reuters.com/business/healthcare-pharmaceuticals/what-you-need-know-about-coronavirus-right-now-2022-03-17/', 'urlToImage': 'https://www.reuters.com/resizer/kc-rHEXD8TRLf5HsxACHZCrn8D8=/1200x628/smart/filters:quality(80)/cloudfront-us-east-2.images.arcpublishing.com/reuters/5G5KE4TUGNIGDBO6QRDHRO3B4U.jpg', 'publishedAt': '2022-03-17T13:08:00Z', 'content': \"March 17 (Reuters) - Here's what you need to know about the coronavirus right now:\\r\\nBritain approves AstraZeneca's preventative COVID therapy\\r\\nBritain's medicines regulator has approved AstraZeneca's… [+3070 chars]\"}, {'source': {'id': 'reuters', 'name': 'Reuters'}, 'author': None, 'title': 'What you need to know about the coronavirus right now - Reuters', 'description': 'What you need to know about the coronavirus right now\\xa0\\xa0Reuters', 'url': 'https://www.reuters.com/business/healthcare-pharmaceuticals/what-you-need-know-about-coronavirus-right-now-2022-03-15/', 'urlToImage': 'https://www.reuters.com/resizer/CU_oTPPuguTOnQllarwkaZ4QZsE=/1200x628/smart/filters:quality(80)/cloudfront-us-east-2.images.arcpublishing.com/reuters/XNOWQGZHSNMXNMM5JXC6C7T7G4.jpg', 'publishedAt': '2022-03-15T13:11:00Z', 'content': \"March 15 (Reuters) - Here's what you need to know about the coronavirus right now:\\r\\nChina's soaring COVID infections fuel concern about cost of containment\\r\\nChina posted a steep jump in daily COVID-1… [+3357 chars]\"}, {'source': {'id': 'reuters', 'name': 'Reuters'}, 'author': None, 'title': 'What you need to know about the coronavirus right now - Reuters.com', 'description': 'What you need to know about the coronavirus right now\\xa0\\xa0Reuters.com', 'url': 'https://www.reuters.com/business/healthcare-pharmaceuticals/what-you-need-know-about-coronavirus-right-now-2022-03-24/', 'urlToImage': 'https://www.reuters.com/resizer/EleVLBxZ5n9dwokJU5V_FdixrkI=/1200x628/smart/filters:quality(80)/cloudfront-us-east-2.images.arcpublishing.com/reuters/YYKVCZYS5ZK3HMJGQV4XY37SQA.jpg', 'publishedAt': '2022-03-24T15:34:00Z', 'content': \"March 24 (Reuters) - Here's what you need to know about the coronavirus right now:\\r\\nSingapore extends quarantine-free entry\\r\\nSingapore said on Thursday it will lift quarantine requirements for all va… [+3486 chars]\"}]}\n"
          ]
        }
      ]
    },
    {
      "cell_type": "code",
      "source": [
        "dados = []\n",
        "\n",
        "for i, article in enumerate(temp['articles']):\n",
        "  title = article['title']\n",
        "  description = article['description']\n",
        "  content = article['content']\n",
        "  dados.append({'title':title, 'date':article[\"publishedAt\"], 'desc':description, 'content':content})\n",
        "df = pd.DataFrame(dados)\n",
        "df = df.dropna()\n",
        "df.head()"
      ],
      "metadata": {
        "colab": {
          "base_uri": "https://localhost:8080/",
          "height": 333
        },
        "id": "zdtle0N_Bxjb",
        "outputId": "c586edb7-e78d-4b2e-a816-0faa1d34f7f0"
      },
      "execution_count": 13,
      "outputs": [
        {
          "output_type": "execute_result",
          "data": {
            "text/plain": [
              "                                               title                  date  \\\n",
              "0  The Sunday Read: ‘Nurses Have Finally Learned ...  2022-03-27T10:00:07Z   \n",
              "1  Rabbi Chaim Kanievsky, Venerated Talmudic Scho...  2022-03-18T20:26:55Z   \n",
              "2  Can Eric Adams Cheerlead New Yorkers Past the ...  2022-03-20T16:11:17Z   \n",
              "3  Moderna Asks F.D.A. to Authorize a Second Boos...  2022-03-18T09:08:37Z   \n",
              "4  China Reports Its First Covid Deaths in Over a...  2022-03-19T13:37:04Z   \n",
              "\n",
              "                                                desc  \\\n",
              "0  As the coronavirus spread, demand for nurses c...   \n",
              "1  He initially insisted, “Canceling Torah study ...   \n",
              "2  The mayor is singularly focused on bringing ba...   \n",
              "3  The request is significantly broader than the ...   \n",
              "4  The two fatalities are the first coronavirus d...   \n",
              "\n",
              "                                             content  \n",
              "0  There are a lot of ways to listen to The Daily...  \n",
              "1  Most significant was his ruling that instances...  \n",
              "2  Mr. Adams, a Democrat, has had regular convers...  \n",
              "3  A man receiving a second booster of a coronavi...  \n",
              "4  Scarcely two months after the Omicron variant ...  "
            ],
            "text/html": [
              "\n",
              "  <div id=\"df-3327ab91-c5c4-4729-a619-c84d0421ff6c\">\n",
              "    <div class=\"colab-df-container\">\n",
              "      <div>\n",
              "<style scoped>\n",
              "    .dataframe tbody tr th:only-of-type {\n",
              "        vertical-align: middle;\n",
              "    }\n",
              "\n",
              "    .dataframe tbody tr th {\n",
              "        vertical-align: top;\n",
              "    }\n",
              "\n",
              "    .dataframe thead th {\n",
              "        text-align: right;\n",
              "    }\n",
              "</style>\n",
              "<table border=\"1\" class=\"dataframe\">\n",
              "  <thead>\n",
              "    <tr style=\"text-align: right;\">\n",
              "      <th></th>\n",
              "      <th>title</th>\n",
              "      <th>date</th>\n",
              "      <th>desc</th>\n",
              "      <th>content</th>\n",
              "    </tr>\n",
              "  </thead>\n",
              "  <tbody>\n",
              "    <tr>\n",
              "      <th>0</th>\n",
              "      <td>The Sunday Read: ‘Nurses Have Finally Learned ...</td>\n",
              "      <td>2022-03-27T10:00:07Z</td>\n",
              "      <td>As the coronavirus spread, demand for nurses c...</td>\n",
              "      <td>There are a lot of ways to listen to The Daily...</td>\n",
              "    </tr>\n",
              "    <tr>\n",
              "      <th>1</th>\n",
              "      <td>Rabbi Chaim Kanievsky, Venerated Talmudic Scho...</td>\n",
              "      <td>2022-03-18T20:26:55Z</td>\n",
              "      <td>He initially insisted, “Canceling Torah study ...</td>\n",
              "      <td>Most significant was his ruling that instances...</td>\n",
              "    </tr>\n",
              "    <tr>\n",
              "      <th>2</th>\n",
              "      <td>Can Eric Adams Cheerlead New Yorkers Past the ...</td>\n",
              "      <td>2022-03-20T16:11:17Z</td>\n",
              "      <td>The mayor is singularly focused on bringing ba...</td>\n",
              "      <td>Mr. Adams, a Democrat, has had regular convers...</td>\n",
              "    </tr>\n",
              "    <tr>\n",
              "      <th>3</th>\n",
              "      <td>Moderna Asks F.D.A. to Authorize a Second Boos...</td>\n",
              "      <td>2022-03-18T09:08:37Z</td>\n",
              "      <td>The request is significantly broader than the ...</td>\n",
              "      <td>A man receiving a second booster of a coronavi...</td>\n",
              "    </tr>\n",
              "    <tr>\n",
              "      <th>4</th>\n",
              "      <td>China Reports Its First Covid Deaths in Over a...</td>\n",
              "      <td>2022-03-19T13:37:04Z</td>\n",
              "      <td>The two fatalities are the first coronavirus d...</td>\n",
              "      <td>Scarcely two months after the Omicron variant ...</td>\n",
              "    </tr>\n",
              "  </tbody>\n",
              "</table>\n",
              "</div>\n",
              "      <button class=\"colab-df-convert\" onclick=\"convertToInteractive('df-3327ab91-c5c4-4729-a619-c84d0421ff6c')\"\n",
              "              title=\"Convert this dataframe to an interactive table.\"\n",
              "              style=\"display:none;\">\n",
              "        \n",
              "  <svg xmlns=\"http://www.w3.org/2000/svg\" height=\"24px\"viewBox=\"0 0 24 24\"\n",
              "       width=\"24px\">\n",
              "    <path d=\"M0 0h24v24H0V0z\" fill=\"none\"/>\n",
              "    <path d=\"M18.56 5.44l.94 2.06.94-2.06 2.06-.94-2.06-.94-.94-2.06-.94 2.06-2.06.94zm-11 1L8.5 8.5l.94-2.06 2.06-.94-2.06-.94L8.5 2.5l-.94 2.06-2.06.94zm10 10l.94 2.06.94-2.06 2.06-.94-2.06-.94-.94-2.06-.94 2.06-2.06.94z\"/><path d=\"M17.41 7.96l-1.37-1.37c-.4-.4-.92-.59-1.43-.59-.52 0-1.04.2-1.43.59L10.3 9.45l-7.72 7.72c-.78.78-.78 2.05 0 2.83L4 21.41c.39.39.9.59 1.41.59.51 0 1.02-.2 1.41-.59l7.78-7.78 2.81-2.81c.8-.78.8-2.07 0-2.86zM5.41 20L4 18.59l7.72-7.72 1.47 1.35L5.41 20z\"/>\n",
              "  </svg>\n",
              "      </button>\n",
              "      \n",
              "  <style>\n",
              "    .colab-df-container {\n",
              "      display:flex;\n",
              "      flex-wrap:wrap;\n",
              "      gap: 12px;\n",
              "    }\n",
              "\n",
              "    .colab-df-convert {\n",
              "      background-color: #E8F0FE;\n",
              "      border: none;\n",
              "      border-radius: 50%;\n",
              "      cursor: pointer;\n",
              "      display: none;\n",
              "      fill: #1967D2;\n",
              "      height: 32px;\n",
              "      padding: 0 0 0 0;\n",
              "      width: 32px;\n",
              "    }\n",
              "\n",
              "    .colab-df-convert:hover {\n",
              "      background-color: #E2EBFA;\n",
              "      box-shadow: 0px 1px 2px rgba(60, 64, 67, 0.3), 0px 1px 3px 1px rgba(60, 64, 67, 0.15);\n",
              "      fill: #174EA6;\n",
              "    }\n",
              "\n",
              "    [theme=dark] .colab-df-convert {\n",
              "      background-color: #3B4455;\n",
              "      fill: #D2E3FC;\n",
              "    }\n",
              "\n",
              "    [theme=dark] .colab-df-convert:hover {\n",
              "      background-color: #434B5C;\n",
              "      box-shadow: 0px 1px 3px 1px rgba(0, 0, 0, 0.15);\n",
              "      filter: drop-shadow(0px 1px 2px rgba(0, 0, 0, 0.3));\n",
              "      fill: #FFFFFF;\n",
              "    }\n",
              "  </style>\n",
              "\n",
              "      <script>\n",
              "        const buttonEl =\n",
              "          document.querySelector('#df-3327ab91-c5c4-4729-a619-c84d0421ff6c button.colab-df-convert');\n",
              "        buttonEl.style.display =\n",
              "          google.colab.kernel.accessAllowed ? 'block' : 'none';\n",
              "\n",
              "        async function convertToInteractive(key) {\n",
              "          const element = document.querySelector('#df-3327ab91-c5c4-4729-a619-c84d0421ff6c');\n",
              "          const dataTable =\n",
              "            await google.colab.kernel.invokeFunction('convertToInteractive',\n",
              "                                                     [key], {});\n",
              "          if (!dataTable) return;\n",
              "\n",
              "          const docLinkHtml = 'Like what you see? Visit the ' +\n",
              "            '<a target=\"_blank\" href=https://colab.research.google.com/notebooks/data_table.ipynb>data table notebook</a>'\n",
              "            + ' to learn more about interactive tables.';\n",
              "          element.innerHTML = '';\n",
              "          dataTable['output_type'] = 'display_data';\n",
              "          await google.colab.output.renderOutput(dataTable, element);\n",
              "          const docLink = document.createElement('div');\n",
              "          docLink.innerHTML = docLinkHtml;\n",
              "          element.appendChild(docLink);\n",
              "        }\n",
              "      </script>\n",
              "    </div>\n",
              "  </div>\n",
              "  "
            ]
          },
          "metadata": {},
          "execution_count": 13
        }
      ]
    },
    {
      "cell_type": "code",
      "source": [
        "def get_keywords_eng(text):\n",
        "  result = []\n",
        "  for token in text:\n",
        "      if (token in nlp_eng.Defaults.stop_words or token in [',', '.',';']):\n",
        "        continue\n",
        "      if (token.pos_ in pos_tag):\n",
        "        result.append(token.text)\n",
        "      return result"
      ],
      "metadata": {
        "id": "CHav57gnBzSI"
      },
      "execution_count": 20,
      "outputs": []
    },
    {
      "cell_type": "code",
      "source": [
        "import nltk\n",
        "from nltk.tokenize import word_tokenize\n",
        "nltk.download('punkt')"
      ],
      "metadata": {
        "colab": {
          "base_uri": "https://localhost:8080/"
        },
        "id": "Vav0XRcM74n8",
        "outputId": "8b0baafb-c1f6-405c-aeea-7a70018608b5"
      },
      "execution_count": 39,
      "outputs": [
        {
          "output_type": "stream",
          "name": "stdout",
          "text": [
            "[nltk_data] Downloading package punkt to /root/nltk_data...\n",
            "[nltk_data]   Package punkt is already up-to-date!\n"
          ]
        },
        {
          "output_type": "execute_result",
          "data": {
            "text/plain": [
              "True"
            ]
          },
          "metadata": {},
          "execution_count": 39
        }
      ]
    },
    {
      "cell_type": "code",
      "source": [
        "words = []\n",
        "for result in temp['articles']:\n",
        "  words.extend(word_tokenize(result[\"content\"]))"
      ],
      "metadata": {
        "id": "ba09Ngk278HO"
      },
      "execution_count": 40,
      "outputs": []
    },
    {
      "cell_type": "markdown",
      "source": [
        "##Word Cloud"
      ],
      "metadata": {
        "id": "I0uJNMcLB8qq"
      }
    },
    {
      "cell_type": "code",
      "source": [
        "import matplotlib.pyplot as plt\n",
        "from wordcloud import WordCloud"
      ],
      "metadata": {
        "id": "YVzJGe835m7z"
      },
      "execution_count": 41,
      "outputs": []
    },
    {
      "cell_type": "code",
      "source": [
        "words = [w.lower() for w in words]\n",
        "nltk.download('stopwords')\n",
        "words = [w for w in words if w not in stopwords.words('english')]\n",
        "words = [w for w in words if w.isalnum()]"
      ],
      "metadata": {
        "colab": {
          "base_uri": "https://localhost:8080/"
        },
        "id": "fCJmvKlP9Vr9",
        "outputId": "91a5090d-c4fb-428e-9870-7c24678aae4e"
      },
      "execution_count": 44,
      "outputs": [
        {
          "output_type": "stream",
          "name": "stdout",
          "text": [
            "[nltk_data] Downloading package stopwords to /root/nltk_data...\n",
            "[nltk_data]   Unzipping corpora/stopwords.zip.\n"
          ]
        }
      ]
    },
    {
      "cell_type": "code",
      "source": [
        "# import packages needed\n",
        "from nltk import pos_tag\n",
        "from nltk.corpus import wordnet \n",
        "nltk.download('wordnet')\n",
        "from nltk.stem.wordnet import WordNetLemmatizer\n",
        "nltk.download('averaged_perceptron_tagger')\n",
        "\n",
        "# Create a function to derive given words POS\n",
        "# Fcn source: https://www.machinelearningplus.com/nlp/lemmatization-examples-python/)\n",
        "def get_wordnet_pos(word):\n",
        "    \"\"\"Map POS tag to first character lemmatize() accepts\"\"\"\n",
        "    tag = nltk.pos_tag([word])[0][1][0].upper()\n",
        "    tag_dict = {\"J\": wordnet.ADJ,\n",
        "                \"N\": wordnet.NOUN,\n",
        "                \"V\": wordnet.VERB,\n",
        "                \"R\": wordnet.ADV}\n",
        "\n",
        "    return tag_dict.get(tag, wordnet.NOUN)\n",
        "\n",
        "# Now use NLTK's lemmatizer to update our list of words\n",
        "words = [WordNetLemmatizer().lemmatize(w, get_wordnet_pos(w)) for w in words]"
      ],
      "metadata": {
        "colab": {
          "base_uri": "https://localhost:8080/"
        },
        "id": "DhaFNC5U9jH-",
        "outputId": "521f7d06-8b99-4ad7-c5b4-d8f9f88767de"
      },
      "execution_count": 48,
      "outputs": [
        {
          "output_type": "stream",
          "name": "stdout",
          "text": [
            "[nltk_data] Downloading package wordnet to /root/nltk_data...\n",
            "[nltk_data]   Package wordnet is already up-to-date!\n",
            "[nltk_data] Downloading package averaged_perceptron_tagger to\n",
            "[nltk_data]     /root/nltk_data...\n",
            "[nltk_data]   Unzipping taggers/averaged_perceptron_tagger.zip.\n"
          ]
        }
      ]
    },
    {
      "cell_type": "code",
      "source": [
        "# import wordcloud library\n",
        "from wordcloud import WordCloud\n",
        "\n",
        "# create a single string of space separated words\n",
        "unique_string=(\" \").join(words)\n",
        "\n",
        "# create the word cloud and save to file\n",
        "wordcloud = WordCloud(width = 1000, height = 500).generate(unique_string)\n",
        "wordcloud.to_file(\"word_cloud.png\")"
      ],
      "metadata": {
        "colab": {
          "base_uri": "https://localhost:8080/"
        },
        "id": "2EbipbiXB-hN",
        "outputId": "ec04f6ce-c6a9-46db-9895-715bec197d69"
      },
      "execution_count": 50,
      "outputs": [
        {
          "output_type": "execute_result",
          "data": {
            "text/plain": [
              "<wordcloud.wordcloud.WordCloud at 0x7fabc3720d10>"
            ]
          },
          "metadata": {},
          "execution_count": 50
        }
      ]
    }
  ]
}